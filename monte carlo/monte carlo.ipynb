{
 "cells": [
  {
   "cell_type": "code",
   "id": "initial_id",
   "metadata": {
    "collapsed": true,
    "ExecuteTime": {
     "end_time": "2024-07-28T11:47:53.894751Z",
     "start_time": "2024-07-28T11:47:53.886060Z"
    }
   },
   "source": [
    "import pandas as pd\n",
    "\n",
    "# Data\n",
    "data = {\n",
    "    \"No.\": range(1, 13),\n",
    "    \"Month\": [\"January\", \"February\", \"March\", \"April\", \"May\", \"June\", \"July\", \"August\", \"September\", \"October\", \"November\", \"December\"],\n",
    "    \"Jumlah/Data Real(DR)\": [220, 220, 210, 230, 200, 210, 215, 218, 254, 160, 150, 155]\n",
    "}\n",
    "\n",
    "df = pd.DataFrame(data)\n",
    "df.loc['TOTAL'] = [None, 'TOTAL', sum(df[\"Jumlah/Data Real(DR)\"])]\n",
    "\n",
    "print(\"Step 1: DataFrame Awal\")\n",
    "print(df)\n"
   ],
   "outputs": [
    {
     "name": "stdout",
     "output_type": "stream",
     "text": [
      "Step 1: DataFrame Awal\n",
      "        No.      Month  Jumlah/Data Real(DR)\n",
      "0         1    January                   220\n",
      "1         2   February                   220\n",
      "2         3      March                   210\n",
      "3         4      April                   230\n",
      "4         5        May                   200\n",
      "5         6       June                   210\n",
      "6         7       July                   215\n",
      "7         8     August                   218\n",
      "8         9  September                   254\n",
      "9        10    October                   160\n",
      "10       11   November                   150\n",
      "11       12   December                   155\n",
      "TOTAL  None      TOTAL                  2442\n"
     ]
    }
   ],
   "execution_count": 20
  },
  {
   "metadata": {
    "ExecuteTime": {
     "end_time": "2024-07-28T11:47:53.908449Z",
     "start_time": "2024-07-28T11:47:53.899145Z"
    }
   },
   "cell_type": "code",
   "source": [
    "# Hapus baris TOTAL untuk menghitung kolom tambahan\n",
    "df = df.iloc[:-1]\n",
    "\n",
    "# Total Pembelian Seluruh Periode\n",
    "TP = df[\"Jumlah/Data Real(DR)\"].sum()\n",
    "\n",
    "# Tambahkan kolom Distribusi Probabilitas (DP)\n",
    "df[\"Distribusi Probabilitas (DP)\"] = df[\"Jumlah/Data Real(DR)\"] / TP\n",
    "\n",
    "print(\"Step 2: DataFrame dengan Distribusi Probabilitas\")\n",
    "print(df)\n"
   ],
   "id": "61f1d6356aad055d",
   "outputs": [
    {
     "name": "stdout",
     "output_type": "stream",
     "text": [
      "Step 2: DataFrame dengan Distribusi Probabilitas\n",
      "   No.      Month  Jumlah/Data Real(DR)  Distribusi Probabilitas (DP)\n",
      "0    1    January                   220                      0.090090\n",
      "1    2   February                   220                      0.090090\n",
      "2    3      March                   210                      0.085995\n",
      "3    4      April                   230                      0.094185\n",
      "4    5        May                   200                      0.081900\n",
      "5    6       June                   210                      0.085995\n",
      "6    7       July                   215                      0.088043\n",
      "7    8     August                   218                      0.089271\n",
      "8    9  September                   254                      0.104013\n",
      "9   10    October                   160                      0.065520\n",
      "10  11   November                   150                      0.061425\n",
      "11  12   December                   155                      0.063473\n"
     ]
    }
   ],
   "execution_count": 21
  },
  {
   "metadata": {
    "ExecuteTime": {
     "end_time": "2024-07-28T11:47:53.919638Z",
     "start_time": "2024-07-28T11:47:53.910799Z"
    }
   },
   "cell_type": "code",
   "source": [
    "# Tambahkan kolom Distribusi Probabilitas Kumulatif (DPK)\n",
    "df[\"Distribusi Probabilitas Kumulatif (DPK)\"] = df[\"Distribusi Probabilitas (DP)\"].cumsum()\n",
    "\n",
    "print(\"Step 3: DataFrame dengan Distribusi Probabilitas Kumulatif\")\n",
    "print(df)\n"
   ],
   "id": "dfd0b082c2bfb603",
   "outputs": [
    {
     "name": "stdout",
     "output_type": "stream",
     "text": [
      "Step 3: DataFrame dengan Distribusi Probabilitas Kumulatif\n",
      "   No.      Month  Jumlah/Data Real(DR)  Distribusi Probabilitas (DP)  \\\n",
      "0    1    January                   220                      0.090090   \n",
      "1    2   February                   220                      0.090090   \n",
      "2    3      March                   210                      0.085995   \n",
      "3    4      April                   230                      0.094185   \n",
      "4    5        May                   200                      0.081900   \n",
      "5    6       June                   210                      0.085995   \n",
      "6    7       July                   215                      0.088043   \n",
      "7    8     August                   218                      0.089271   \n",
      "8    9  September                   254                      0.104013   \n",
      "9   10    October                   160                      0.065520   \n",
      "10  11   November                   150                      0.061425   \n",
      "11  12   December                   155                      0.063473   \n",
      "\n",
      "    Distribusi Probabilitas Kumulatif (DPK)  \n",
      "0                                  0.090090  \n",
      "1                                  0.180180  \n",
      "2                                  0.266175  \n",
      "3                                  0.360360  \n",
      "4                                  0.442260  \n",
      "5                                  0.528256  \n",
      "6                                  0.616298  \n",
      "7                                  0.705569  \n",
      "8                                  0.809582  \n",
      "9                                  0.875102  \n",
      "10                                 0.936527  \n",
      "11                                 1.000000  \n"
     ]
    }
   ],
   "execution_count": 22
  },
  {
   "metadata": {
    "ExecuteTime": {
     "end_time": "2024-07-28T11:47:53.928206Z",
     "start_time": "2024-07-28T11:47:53.920645Z"
    }
   },
   "cell_type": "code",
   "source": [
    "# Hitung interval angka acak\n",
    "df[\"Batas Awal\"] = (df[\"Distribusi Probabilitas Kumulatif (DPK)\"] * 100).shift(fill_value=0).astype(int)\n",
    "df[\"Batas Akhir\"] = (df[\"Distribusi Probabilitas Kumulatif (DPK)\"] * 100).astype(int)\n",
    "\n",
    "print(\"Step 4: DataFrame dengan Interval Angka Acak\")\n",
    "print(df)\n"
   ],
   "id": "95b9c7425b147507",
   "outputs": [
    {
     "name": "stdout",
     "output_type": "stream",
     "text": [
      "Step 4: DataFrame dengan Interval Angka Acak\n",
      "   No.      Month  Jumlah/Data Real(DR)  Distribusi Probabilitas (DP)  \\\n",
      "0    1    January                   220                      0.090090   \n",
      "1    2   February                   220                      0.090090   \n",
      "2    3      March                   210                      0.085995   \n",
      "3    4      April                   230                      0.094185   \n",
      "4    5        May                   200                      0.081900   \n",
      "5    6       June                   210                      0.085995   \n",
      "6    7       July                   215                      0.088043   \n",
      "7    8     August                   218                      0.089271   \n",
      "8    9  September                   254                      0.104013   \n",
      "9   10    October                   160                      0.065520   \n",
      "10  11   November                   150                      0.061425   \n",
      "11  12   December                   155                      0.063473   \n",
      "\n",
      "    Distribusi Probabilitas Kumulatif (DPK)  Batas Awal  Batas Akhir  \n",
      "0                                  0.090090           0            9  \n",
      "1                                  0.180180           9           18  \n",
      "2                                  0.266175          18           26  \n",
      "3                                  0.360360          26           36  \n",
      "4                                  0.442260          36           44  \n",
      "5                                  0.528256          44           52  \n",
      "6                                  0.616298          52           61  \n",
      "7                                  0.705569          61           70  \n",
      "8                                  0.809582          70           80  \n",
      "9                                  0.875102          80           87  \n",
      "10                                 0.936527          87           93  \n",
      "11                                 1.000000          93          100  \n"
     ]
    }
   ],
   "execution_count": 23
  },
  {
   "metadata": {
    "ExecuteTime": {
     "end_time": "2024-07-28T11:47:53.937327Z",
     "start_time": "2024-07-28T11:47:53.929214Z"
    }
   },
   "cell_type": "code",
   "source": [
    "# Parameter untuk Mixed Congruent Method\n",
    "a = 34\n",
    "c = 90\n",
    "m = 92\n",
    "Z0 = 22\n",
    "\n",
    "# Fungsi untuk menghitung Zi\n",
    "def mixed_congruent_method(a, c, m, Z0, n):\n",
    "    Z = []\n",
    "    Z.append((a * Z0 + c) % m)  # Menggunakan Z0 untuk menghitung Z1\n",
    "    for i in range(1, n):\n",
    "        Z.append((a * Z[i-1] + c) % m)  # Menggunakan hasil Zi sebelumnya\n",
    "    return Z\n",
    "\n",
    "# Hitung Zi untuk setiap bulan\n",
    "n = len(df)\n",
    "df[\"Zi\"] = mixed_congruent_method(a, c, m, Z0, n)\n",
    "\n",
    "print(\"Step 5: DataFrame dengan Zi\")\n",
    "print(df)"
   ],
   "id": "d036f70bc2a71560",
   "outputs": [
    {
     "name": "stdout",
     "output_type": "stream",
     "text": [
      "Step 5: DataFrame dengan Zi\n",
      "   No.      Month  Jumlah/Data Real(DR)  Distribusi Probabilitas (DP)  \\\n",
      "0    1    January                   220                      0.090090   \n",
      "1    2   February                   220                      0.090090   \n",
      "2    3      March                   210                      0.085995   \n",
      "3    4      April                   230                      0.094185   \n",
      "4    5        May                   200                      0.081900   \n",
      "5    6       June                   210                      0.085995   \n",
      "6    7       July                   215                      0.088043   \n",
      "7    8     August                   218                      0.089271   \n",
      "8    9  September                   254                      0.104013   \n",
      "9   10    October                   160                      0.065520   \n",
      "10  11   November                   150                      0.061425   \n",
      "11  12   December                   155                      0.063473   \n",
      "\n",
      "    Distribusi Probabilitas Kumulatif (DPK)  Batas Awal  Batas Akhir  Zi  \n",
      "0                                  0.090090           0            9  10  \n",
      "1                                  0.180180           9           18  62  \n",
      "2                                  0.266175          18           26  82  \n",
      "3                                  0.360360          26           36  26  \n",
      "4                                  0.442260          36           44  54  \n",
      "5                                  0.528256          44           52  86  \n",
      "6                                  0.616298          52           61  70  \n",
      "7                                  0.705569          61           70  78  \n",
      "8                                  0.809582          70           80  74  \n",
      "9                                  0.875102          80           87  30  \n",
      "10                                 0.936527          87           93   6  \n",
      "11                                 1.000000          93          100  18  \n"
     ]
    }
   ],
   "execution_count": 24
  },
  {
   "metadata": {
    "ExecuteTime": {
     "end_time": "2024-07-28T11:47:53.947563Z",
     "start_time": "2024-07-28T11:47:53.938335Z"
    }
   },
   "cell_type": "code",
   "source": [
    "# Fungsi untuk menentukan hasil simulasi berdasarkan Zi dan interval angka acak\n",
    "def determine_simulation_result(Zi, df):\n",
    "    for i, row in df.iterrows():\n",
    "        if row[\"Batas Awal\"] <= Zi <= row[\"Batas Akhir\"]:\n",
    "            return row[\"Jumlah/Data Real(DR)\"]\n",
    "    return None\n",
    "\n",
    "# Tambahkan kolom Hasil Simulasi (HS)\n",
    "df[\"Hasil Simulasi (HS)\"] = df[\"Zi\"].apply(lambda x: determine_simulation_result(x, df))\n",
    "\n",
    "print(\"Step 6: DataFrame dengan Hasil Simulasi\")\n",
    "print(df)\n"
   ],
   "id": "eebf556d5892ed2c",
   "outputs": [
    {
     "name": "stdout",
     "output_type": "stream",
     "text": [
      "Step 6: DataFrame dengan Hasil Simulasi\n",
      "   No.      Month  Jumlah/Data Real(DR)  Distribusi Probabilitas (DP)  \\\n",
      "0    1    January                   220                      0.090090   \n",
      "1    2   February                   220                      0.090090   \n",
      "2    3      March                   210                      0.085995   \n",
      "3    4      April                   230                      0.094185   \n",
      "4    5        May                   200                      0.081900   \n",
      "5    6       June                   210                      0.085995   \n",
      "6    7       July                   215                      0.088043   \n",
      "7    8     August                   218                      0.089271   \n",
      "8    9  September                   254                      0.104013   \n",
      "9   10    October                   160                      0.065520   \n",
      "10  11   November                   150                      0.061425   \n",
      "11  12   December                   155                      0.063473   \n",
      "\n",
      "    Distribusi Probabilitas Kumulatif (DPK)  Batas Awal  Batas Akhir  Zi  \\\n",
      "0                                  0.090090           0            9  10   \n",
      "1                                  0.180180           9           18  62   \n",
      "2                                  0.266175          18           26  82   \n",
      "3                                  0.360360          26           36  26   \n",
      "4                                  0.442260          36           44  54   \n",
      "5                                  0.528256          44           52  86   \n",
      "6                                  0.616298          52           61  70   \n",
      "7                                  0.705569          61           70  78   \n",
      "8                                  0.809582          70           80  74   \n",
      "9                                  0.875102          80           87  30   \n",
      "10                                 0.936527          87           93   6   \n",
      "11                                 1.000000          93          100  18   \n",
      "\n",
      "    Hasil Simulasi (HS)  \n",
      "0                   220  \n",
      "1                   218  \n",
      "2                   160  \n",
      "3                   210  \n",
      "4                   215  \n",
      "5                   160  \n",
      "6                   218  \n",
      "7                   254  \n",
      "8                   254  \n",
      "9                   230  \n",
      "10                  220  \n",
      "11                  220  \n"
     ]
    }
   ],
   "execution_count": 25
  },
  {
   "metadata": {
    "ExecuteTime": {
     "end_time": "2024-07-28T11:47:53.957598Z",
     "start_time": "2024-07-28T11:47:53.948571Z"
    }
   },
   "cell_type": "code",
   "source": [
    "# Fungsi untuk menghitung akurasi\n",
    "def calculate_accuracy(real, simulation):\n",
    "    return (min(real, simulation) / max(real, simulation)) * 100\n",
    "\n",
    "# Tambahkan kolom Akurasi\n",
    "df[\"Tingkat Akurasi\"] = df.apply(lambda row: calculate_accuracy(row[\"Jumlah/Data Real(DR)\"], row[\"Hasil Simulasi (HS)\"]), axis=1)\n",
    "\n",
    "print(\"Step 7: DataFrame dengan Tingkat Akurasi\")\n",
    "print(df)\n"
   ],
   "id": "79888afbc818e2ce",
   "outputs": [
    {
     "name": "stdout",
     "output_type": "stream",
     "text": [
      "Step 7: DataFrame dengan Tingkat Akurasi\n",
      "   No.      Month  Jumlah/Data Real(DR)  Distribusi Probabilitas (DP)  \\\n",
      "0    1    January                   220                      0.090090   \n",
      "1    2   February                   220                      0.090090   \n",
      "2    3      March                   210                      0.085995   \n",
      "3    4      April                   230                      0.094185   \n",
      "4    5        May                   200                      0.081900   \n",
      "5    6       June                   210                      0.085995   \n",
      "6    7       July                   215                      0.088043   \n",
      "7    8     August                   218                      0.089271   \n",
      "8    9  September                   254                      0.104013   \n",
      "9   10    October                   160                      0.065520   \n",
      "10  11   November                   150                      0.061425   \n",
      "11  12   December                   155                      0.063473   \n",
      "\n",
      "    Distribusi Probabilitas Kumulatif (DPK)  Batas Awal  Batas Akhir  Zi  \\\n",
      "0                                  0.090090           0            9  10   \n",
      "1                                  0.180180           9           18  62   \n",
      "2                                  0.266175          18           26  82   \n",
      "3                                  0.360360          26           36  26   \n",
      "4                                  0.442260          36           44  54   \n",
      "5                                  0.528256          44           52  86   \n",
      "6                                  0.616298          52           61  70   \n",
      "7                                  0.705569          61           70  78   \n",
      "8                                  0.809582          70           80  74   \n",
      "9                                  0.875102          80           87  30   \n",
      "10                                 0.936527          87           93   6   \n",
      "11                                 1.000000          93          100  18   \n",
      "\n",
      "    Hasil Simulasi (HS)  Tingkat Akurasi  \n",
      "0                   220       100.000000  \n",
      "1                   218        99.090909  \n",
      "2                   160        76.190476  \n",
      "3                   210        91.304348  \n",
      "4                   215        93.023256  \n",
      "5                   160        76.190476  \n",
      "6                   218        98.623853  \n",
      "7                   254        85.826772  \n",
      "8                   254       100.000000  \n",
      "9                   230        69.565217  \n",
      "10                  220        68.181818  \n",
      "11                  220        70.454545  \n"
     ]
    }
   ],
   "execution_count": 26
  },
  {
   "metadata": {
    "ExecuteTime": {
     "end_time": "2024-07-28T11:50:43.600071Z",
     "start_time": "2024-07-28T11:50:43.593938Z"
    }
   },
   "cell_type": "code",
   "source": [
    "# Hitung total HS dan total DR\n",
    "total_HS = df[\"Hasil Simulasi (HS)\"].sum()\n",
    "total_DR = df[\"Jumlah/Data Real(DR)\"].sum()\n",
    "\n",
    "# Hitung tingkat akurasi keseluruhan\n",
    "overall_accuracy = (min(total_HS, total_DR) / max(total_HS, total_DR)) * 100\n",
    "\n",
    "print(f\"Total Jumlah/Data Real (DR): {total_DR}\")\n",
    "print(f\"Total Hasil Simulasi (HS): {total_HS}\")\n",
    "print(\"Step 8: Tingkat Akurasi Keseluruhan\")\n",
    "print(\"overall_accuracy = (min(total_HS, total_DR) / max(total_HS, total_DR)) * 100\")\n",
    "print(f\"Tingkat Akurasi Keseluruhan: {overall_accuracy:.2f}%\")\n"
   ],
   "id": "1c7fa8c990b206f7",
   "outputs": [
    {
     "name": "stdout",
     "output_type": "stream",
     "text": [
      "Total Jumlah/Data Real (DR): 2442\n",
      "Total Hasil Simulasi (HS): 2579\n",
      "Step 8: Tingkat Akurasi Keseluruhan\n",
      "overall_accuracy = (min(total_HS, total_DR) / max(total_HS, total_DR)) * 100\n",
      "Tingkat Akurasi Keseluruhan: 94.69%\n"
     ]
    }
   ],
   "execution_count": 29
  },
  {
   "metadata": {},
   "cell_type": "code",
   "outputs": [],
   "execution_count": null,
   "source": "",
   "id": "48593c297dae8618"
  }
 ],
 "metadata": {
  "kernelspec": {
   "display_name": "Python 3",
   "language": "python",
   "name": "python3"
  },
  "language_info": {
   "codemirror_mode": {
    "name": "ipython",
    "version": 2
   },
   "file_extension": ".py",
   "mimetype": "text/x-python",
   "name": "python",
   "nbconvert_exporter": "python",
   "pygments_lexer": "ipython2",
   "version": "2.7.6"
  }
 },
 "nbformat": 4,
 "nbformat_minor": 5
}
