{
 "cells": [
  {
   "metadata": {},
   "cell_type": "markdown",
   "source": [
    "K Means clustering adalah algoritma unsupervised machine learning yang digunakan untuk pengelompokan data dan pengenalan pola. \n",
    "\n",
    "Caranya adalah dengan memilih beberapa titik data awal (k) secara acak, lalu memindah-mindahkannya hingga pengelompokan yang paling ideal ditemukan dengan periterasinya mencari jarak tiap data ke tiap kluster lalu menentukan cluster mana data tersebut masuk dengan memilih cluster terdekat dari setiap data tersebut, lalu tentukan lokasi centroid baru dengan mencari mean pada data yang termasuk ke dalam kluster tersebut, kemudian bandingkan lagi jarak data dengan centroid baru, hentikan hanya jika tidak ada perubahan pada cluster tiap data dengan iterasi sebelumnya. \n"
   ],
   "id": "9cf6764acf0aaac2"
  },
  {
   "metadata": {},
   "cell_type": "markdown",
   "source": "Import dulu package yang dipakai",
   "id": "313d32b51b4c772a"
  },
  {
   "metadata": {
    "ExecuteTime": {
     "end_time": "2024-07-27T02:19:43.665900Z",
     "start_time": "2024-07-27T02:19:43.662103Z"
    }
   },
   "cell_type": "code",
   "source": [
    "#import dulu package-package yang dipakai untuk operasi dasar dan plotting grafik nantinya.\n",
    "import numpy as np\n",
    "import pandas as pd\n",
    "import matplotlib.pyplot as plt"
   ],
   "id": "2a1bfd646b6f388a",
   "outputs": [],
   "execution_count": 80
  },
  {
   "metadata": {},
   "cell_type": "markdown",
   "source": "kita input data sesuai dengan jurnalnya",
   "id": "736e63844379d3c3"
  },
  {
   "metadata": {
    "ExecuteTime": {
     "end_time": "2024-07-27T02:19:44.610270Z",
     "start_time": "2024-07-27T02:19:44.606703Z"
    }
   },
   "cell_type": "code",
   "source": [
    "data = {\n",
    "    'Nama': ['Siswa001', 'Siswa002', 'Siswa003', 'Siswa004', 'Siswa005', 'Siswa006', 'Siswa007', 'Siswa008', 'Siswa009', 'Siswa010'],\n",
    "    'Nilai Raport': [80, 90, 95, 75, 70, 80, 65, 90, 91, 85],\n",
    "    'Nilai Tes Ujian': [85, 87, 90, 78, 89, 70, 75, 71, 75, 70],\n",
    "}"
   ],
   "id": "e77397523e13ecc7",
   "outputs": [],
   "execution_count": 81
  },
  {
   "metadata": {},
   "cell_type": "markdown",
   "source": "Convert data ke dataframe supaya lebih mudah dikelola oleh pandas, dan numpy nantinya",
   "id": "9a79cdc26306ad52"
  },
  {
   "metadata": {
    "ExecuteTime": {
     "end_time": "2024-07-27T02:19:45.199344Z",
     "start_time": "2024-07-27T02:19:45.195134Z"
    }
   },
   "cell_type": "code",
   "source": "df = pd.DataFrame(data)",
   "id": "c95104e8b9cd35ae",
   "outputs": [],
   "execution_count": 82
  },
  {
   "metadata": {},
   "cell_type": "markdown",
   "source": "kita lihat data data yang kita input",
   "id": "efd8bbc026e28037"
  },
  {
   "metadata": {
    "ExecuteTime": {
     "end_time": "2024-07-27T02:19:45.527108Z",
     "start_time": "2024-07-27T02:19:45.522418Z"
    }
   },
   "cell_type": "code",
   "source": "print(df.head())",
   "id": "bae045222a94dedb",
   "outputs": [
    {
     "name": "stdout",
     "output_type": "stream",
     "text": [
      "       Nama  Nilai Raport  Nilai Tes Ujian\n",
      "0  Siswa001            80               85\n",
      "1  Siswa002            90               87\n",
      "2  Siswa003            95               90\n",
      "3  Siswa004            75               78\n",
      "4  Siswa005            70               89\n"
     ]
    }
   ],
   "execution_count": 83
  },
  {
   "metadata": {},
   "cell_type": "markdown",
   "source": "beri titik centroid initial tiap clusters, sesuai dengan jurnal demi kemiripan",
   "id": "51d62c608c1906d9"
  },
  {
   "metadata": {
    "ExecuteTime": {
     "end_time": "2024-07-27T02:19:45.849817Z",
     "start_time": "2024-07-27T02:19:45.845391Z"
    }
   },
   "cell_type": "code",
   "source": [
    "initial_centers = np.array([\n",
    "    [95, 90],\n",
    "    [80, 70],\n",
    "    [65, 75]\n",
    "])"
   ],
   "id": "44043a86d4bf69a5",
   "outputs": [],
   "execution_count": 84
  },
  {
   "metadata": {},
   "cell_type": "markdown",
   "source": "kita rumuskan fungsi buat jarak euclideannya ",
   "id": "14006a16cbb5fd55"
  },
  {
   "metadata": {
    "ExecuteTime": {
     "end_time": "2024-07-27T02:19:46.202453Z",
     "start_time": "2024-07-27T02:19:46.196078Z"
    }
   },
   "cell_type": "code",
   "source": [
    "def euclidean_distance(a, b):\n",
    "    return np.sqrt(np.sum((a - b) ** 2))"
   ],
   "id": "7aade294123be566",
   "outputs": [],
   "execution_count": 85
  },
  {
   "metadata": {},
   "cell_type": "markdown",
   "source": "lalu fungsikan tiap data point ke klaster terdekat dengan menggunakan fungsi jarak euclidean yang udah kita define sebelumnya",
   "id": "79a9b54e3bbb79e2"
  },
  {
   "metadata": {
    "ExecuteTime": {
     "end_time": "2024-07-27T02:19:46.547271Z",
     "start_time": "2024-07-27T02:19:46.541151Z"
    }
   },
   "cell_type": "code",
   "source": [
    "def assign_clusters(data, centers):\n",
    "    clusters = []\n",
    "    for index, row in data.iterrows(): #data.iterrows() adalah metode pada DataFrame pandas yang memungkinkan Anda untuk mengiterasi baris-baris DataFrame secara berurutan. Metode ini mengembalikan dua nilai pada setiap iterasi: index: Indeks baris saat ini. row: Series pandas yang berisi data untuk baris saat ini. Misalnya, jika Anda memiliki DataFrame dengan 3 kolom, row akan menjadi Series yang memiliki nilai dari setiap kolom pada baris saat ini. Ini memudahkan Anda untuk mengakses dan memproses setiap baris secara individu.\n",
    "        distances = [euclidean_distance(np.array([row['Nilai Raport'], row['Nilai Tes Ujian']]), center) for center in centers]\n",
    "        clusters.append(np.argmin(distances) + 1)  # Add 1 to change biar cluster mulai dari 1 melainkan dari 0\n",
    "    return clusters"
   ],
   "id": "b7afde8e45e72d34",
   "outputs": [],
   "execution_count": 86
  },
  {
   "metadata": {},
   "cell_type": "markdown",
   "source": "sesuai dengan namanya k-MEANS yang artinya mean / rata rata, kita cari rata rata dari tiap variabel dengan menjumlahkan seluruh hasil dari fungsi jarak euclidean tadi setelah diproses fungsi assign clusters tadi.",
   "id": "d3d93c35b3c1da90"
  },
  {
   "metadata": {
    "ExecuteTime": {
     "end_time": "2024-07-27T02:19:46.881953Z",
     "start_time": "2024-07-27T02:19:46.877498Z"
    }
   },
   "cell_type": "code",
   "source": [
    "def calculate_new_centers(data, clusters, k):\n",
    "    new_centers = []\n",
    "    for i in range(1, k + 1):  # Adjust loop to match new cluster labels supaya mengikuti cluster yang dimulai dari 1 bukan 0\n",
    "        cluster_data = data[data['Cluster'] == i]\n",
    "        new_center = cluster_data[['Nilai Raport', 'Nilai Tes Ujian']].mean().values\n",
    "        new_centers.append(new_center)\n",
    "    return np.array(new_centers)"
   ],
   "id": "6f9290e0e34b66e0",
   "outputs": [],
   "execution_count": 87
  },
  {
   "metadata": {},
   "cell_type": "markdown",
   "source": "kita panggil ",
   "id": "300fc8a911336d37"
  },
  {
   "metadata": {
    "ExecuteTime": {
     "end_time": "2024-07-27T02:19:47.226478Z",
     "start_time": "2024-07-27T02:19:47.221586Z"
    }
   },
   "cell_type": "code",
   "source": "df['Cluster'] = assign_clusters(df, initial_centers)",
   "id": "8ac0acd6592a6b82",
   "outputs": [],
   "execution_count": 88
  },
  {
   "metadata": {},
   "cell_type": "markdown",
   "source": "",
   "id": "c7833acd9d61541a"
  },
  {
   "metadata": {
    "ExecuteTime": {
     "end_time": "2024-07-27T02:19:47.598922Z",
     "start_time": "2024-07-27T02:19:47.588456Z"
    }
   },
   "cell_type": "code",
   "source": [
    "df['C1'] = df.apply(lambda row: euclidean_distance(np.array([row['Nilai Raport'], row['Nilai Tes Ujian']]), initial_centers[0]), axis=1)\n",
    "df['C2'] = df.apply(lambda row: euclidean_distance(np.array([row['Nilai Raport'], row['Nilai Tes Ujian']]), initial_centers[1]), axis=1)\n",
    "df['C3'] = df.apply(lambda row: euclidean_distance(np.array([row['Nilai Raport'], row['Nilai Tes Ujian']]), initial_centers[2]), axis=1)"
   ],
   "id": "96ca941a19b48637",
   "outputs": [],
   "execution_count": 89
  },
  {
   "metadata": {},
   "cell_type": "markdown",
   "source": "",
   "id": "9140416164f2aa7d"
  },
  {
   "metadata": {
    "ExecuteTime": {
     "end_time": "2024-07-27T02:19:47.966470Z",
     "start_time": "2024-07-27T02:19:47.962421Z"
    }
   },
   "cell_type": "code",
   "source": [
    "df['Data No'] = df.index + 1\n",
    "iteration_1 = df[['Data No', 'C1', 'C2', 'C3', 'Cluster']]"
   ],
   "id": "ecf05fbac6b40066",
   "outputs": [],
   "execution_count": 90
  },
  {
   "metadata": {},
   "cell_type": "markdown",
   "source": "",
   "id": "2ae68a246bf2f607"
  },
  {
   "metadata": {
    "ExecuteTime": {
     "end_time": "2024-07-27T02:19:48.318416Z",
     "start_time": "2024-07-27T02:19:48.312411Z"
    }
   },
   "cell_type": "code",
   "source": "new_centers = calculate_new_centers(df, df['Cluster'], 3)",
   "id": "60262773c31d9059",
   "outputs": [],
   "execution_count": 91
  },
  {
   "metadata": {},
   "cell_type": "markdown",
   "source": "",
   "id": "c5acd05593087306"
  },
  {
   "metadata": {
    "ExecuteTime": {
     "end_time": "2024-07-27T02:19:48.693094Z",
     "start_time": "2024-07-27T02:19:48.685227Z"
    }
   },
   "cell_type": "code",
   "source": "df['Cluster'] = assign_clusters(df, new_centers)",
   "id": "c4b97a841a527b15",
   "outputs": [],
   "execution_count": 92
  },
  {
   "metadata": {},
   "cell_type": "markdown",
   "source": "",
   "id": "f87c1cbdf393db29"
  },
  {
   "metadata": {
    "ExecuteTime": {
     "end_time": "2024-07-27T02:19:49.027037Z",
     "start_time": "2024-07-27T02:19:49.021228Z"
    }
   },
   "cell_type": "code",
   "source": [
    "df['C1'] = df.apply(lambda row: euclidean_distance(np.array([row['Nilai Raport'], row['Nilai Tes Ujian']]), new_centers[0]), axis=1)\n",
    "df['C2'] = df.apply(lambda row: euclidean_distance(np.array([row['Nilai Raport'], row['Nilai Tes Ujian']]), new_centers[1]), axis=1)\n",
    "df['C3'] = df.apply(lambda row: euclidean_distance(np.array([row['Nilai Raport'], row['Nilai Tes Ujian']]), new_centers[2]), axis=1)"
   ],
   "id": "3dd4725b1f33345d",
   "outputs": [],
   "execution_count": 93
  },
  {
   "metadata": {},
   "cell_type": "markdown",
   "source": "",
   "id": "4ecf7a0c86ef8c04"
  },
  {
   "metadata": {
    "ExecuteTime": {
     "end_time": "2024-07-27T02:19:49.362174Z",
     "start_time": "2024-07-27T02:19:49.357009Z"
    }
   },
   "cell_type": "code",
   "source": "iteration_2 = df[['Data No', 'C1', 'C2', 'C3', 'Cluster']]",
   "id": "1bb5f4716f2c84fd",
   "outputs": [],
   "execution_count": 94
  },
  {
   "metadata": {},
   "cell_type": "markdown",
   "source": "",
   "id": "db3fdb8c63d60c19"
  },
  {
   "metadata": {
    "ExecuteTime": {
     "end_time": "2024-07-27T02:19:49.706239Z",
     "start_time": "2024-07-27T02:19:49.699397Z"
    }
   },
   "cell_type": "code",
   "source": "new_centers_2 = calculate_new_centers(df, df['Cluster'], 3)",
   "id": "93bf404fdb9aba7a",
   "outputs": [],
   "execution_count": 95
  },
  {
   "metadata": {},
   "cell_type": "markdown",
   "source": "",
   "id": "be79323f8ddc716d"
  },
  {
   "metadata": {
    "ExecuteTime": {
     "end_time": "2024-07-27T02:19:50.072362Z",
     "start_time": "2024-07-27T02:19:50.068268Z"
    }
   },
   "cell_type": "code",
   "source": "df['Cluster'] = assign_clusters(df, new_centers_2)",
   "id": "4699b0d691faaada",
   "outputs": [],
   "execution_count": 96
  },
  {
   "metadata": {},
   "cell_type": "markdown",
   "source": "",
   "id": "7fa7f485ab5b72d5"
  },
  {
   "metadata": {
    "ExecuteTime": {
     "end_time": "2024-07-27T02:19:50.448784Z",
     "start_time": "2024-07-27T02:19:50.440761Z"
    }
   },
   "cell_type": "code",
   "source": [
    "df['C1'] = df.apply(lambda row: euclidean_distance(np.array([row['Nilai Raport'], row['Nilai Tes Ujian']]), new_centers_2[0]), axis=1)\n",
    "df['C2'] = df.apply(lambda row: euclidean_distance(np.array([row['Nilai Raport'], row['Nilai Tes Ujian']]), new_centers_2[1]), axis=1)\n",
    "df['C3'] = df.apply(lambda row: euclidean_distance(np.array([row['Nilai Raport'], row['Nilai Tes Ujian']]), new_centers_2[2]), axis=1)"
   ],
   "id": "502053b22049f466",
   "outputs": [],
   "execution_count": 97
  },
  {
   "metadata": {},
   "cell_type": "markdown",
   "source": "",
   "id": "c8ac4d7f7e9cc775"
  },
  {
   "metadata": {
    "ExecuteTime": {
     "end_time": "2024-07-27T02:19:50.826176Z",
     "start_time": "2024-07-27T02:19:50.822169Z"
    }
   },
   "cell_type": "code",
   "source": "iteration_3 = df[['Data No', 'C1', 'C2', 'C3', 'Cluster']]",
   "id": "2384fe9a11f37848",
   "outputs": [],
   "execution_count": 98
  },
  {
   "metadata": {},
   "cell_type": "markdown",
   "source": "",
   "id": "b284aa2013622deb"
  },
  {
   "metadata": {
    "ExecuteTime": {
     "end_time": "2024-07-27T02:19:51.201070Z",
     "start_time": "2024-07-27T02:19:51.195157Z"
    }
   },
   "cell_type": "code",
   "source": "new_centers_3 = calculate_new_centers(df, df['Cluster'], 3)",
   "id": "45b781f1ed51e98c",
   "outputs": [],
   "execution_count": 99
  },
  {
   "metadata": {},
   "cell_type": "markdown",
   "source": "",
   "id": "daf012fb6af7fe6a"
  },
  {
   "metadata": {
    "ExecuteTime": {
     "end_time": "2024-07-27T02:19:51.557044Z",
     "start_time": "2024-07-27T02:19:51.551211Z"
    }
   },
   "cell_type": "code",
   "source": "df['Cluster'] = assign_clusters(df, new_centers_3)",
   "id": "4cfe942c0d418987",
   "outputs": [],
   "execution_count": 100
  },
  {
   "metadata": {},
   "cell_type": "markdown",
   "source": "",
   "id": "6c9d29e4ddae2557"
  },
  {
   "metadata": {
    "ExecuteTime": {
     "end_time": "2024-07-27T02:19:51.931639Z",
     "start_time": "2024-07-27T02:19:51.922987Z"
    }
   },
   "cell_type": "code",
   "source": [
    "df['C1'] = df.apply(lambda row: euclidean_distance(np.array([row['Nilai Raport'], row['Nilai Tes Ujian']]), new_centers_3[0]), axis=1)\n",
    "df['C2'] = df.apply(lambda row: euclidean_distance(np.array([row['Nilai Raport'], row['Nilai Tes Ujian']]), new_centers_3[1]), axis=1)\n",
    "df['C3'] = df.apply(lambda row: euclidean_distance(np.array([row['Nilai Raport'], row['Nilai Tes Ujian']]), new_centers_3[2]), axis=1)"
   ],
   "id": "805bae97cecec839",
   "outputs": [],
   "execution_count": 101
  },
  {
   "metadata": {},
   "cell_type": "markdown",
   "source": "",
   "id": "4a0b959728a413df"
  },
  {
   "metadata": {
    "ExecuteTime": {
     "end_time": "2024-07-27T02:19:52.293497Z",
     "start_time": "2024-07-27T02:19:52.288846Z"
    }
   },
   "cell_type": "code",
   "source": "iteration_4 = df[['Data No', 'C1', 'C2', 'C3', 'Cluster']]",
   "id": "3582beddba7ad772",
   "outputs": [],
   "execution_count": 102
  },
  {
   "metadata": {},
   "cell_type": "markdown",
   "source": "",
   "id": "de66ab249de13efa"
  },
  {
   "metadata": {
    "ExecuteTime": {
     "end_time": "2024-07-27T02:20:41.267169Z",
     "start_time": "2024-07-27T02:20:41.256655Z"
    }
   },
   "cell_type": "code",
   "source": [
    "print(\"Hasil iterasi 1:\")\n",
    "print(iteration_1.to_string(index=False))\n",
    "\n",
    "print(\"\\nkluster baru setelah iterasi ke 1:\")\n",
    "print(new_centers)\n",
    "\n",
    "print(\"\\nHasil dari Iteration ke 2:\")\n",
    "print(iteration_2.to_string(index=False))\n",
    "\n",
    "print(\"\\nkluster baru setelah iterasi ke 2:\")\n",
    "print(new_centers_2)\n",
    "\n",
    "print(\"\\nHasil dari Iteration ke 3:\")\n",
    "print(iteration_3.to_string(index=False))\n",
    "\n",
    "print(\"\\nkluster baru setelah iterasi ke 3:\")\n",
    "print(new_centers_3)\n",
    "\n",
    "print(\"\\nHasil akhirnya dari Iteration ke 4 sama dengan sebelumnya:\")\n",
    "print(iteration_4.to_string(index=False))\n",
    "\n",
    "print(\"\\nbisa dilihat tidak ada perubahan di iterasi ke 4 dari iterasi ke 3\")"
   ],
   "id": "6167dfc50fab0c3d",
   "outputs": [
    {
     "name": "stdout",
     "output_type": "stream",
     "text": [
      "Hasil iterasi 1:\n",
      " Data No        C1        C2        C3  Cluster\n",
      "       1 15.811388 15.000000 18.027756        2\n",
      "       2  5.830952 19.723083 27.730849        1\n",
      "       3  0.000000 25.000000 33.541020        1\n",
      "       4 23.323808  9.433981 10.440307        2\n",
      "       5 25.019992 21.470911 14.866069        3\n",
      "       6 25.000000  0.000000 15.811388        2\n",
      "       7 33.541020 15.811388  0.000000        3\n",
      "       8 19.646883 10.049876 25.317978        2\n",
      "       9 15.524175 12.083046 26.000000        2\n",
      "      10 22.360680  5.000000 20.615528        2\n",
      "\n",
      "kluster baru setelah iterasi ke 1:\n",
      "[[92.5        88.5       ]\n",
      " [83.5        74.83333333]\n",
      " [67.5        82.        ]]\n",
      "\n",
      "Hasil dari Iteration ke 2:\n",
      " Data No        C1        C2        C3  Cluster\n",
      "       1 12.980755 10.752261 12.854960        2\n",
      "       2  2.915476 13.794121 23.048861        1\n",
      "       3  2.915476 19.033596 28.640007        1\n",
      "       4 20.408332  9.070710  8.500000        3\n",
      "       5 22.505555 19.568966  7.433034        3\n",
      "       6 22.327114  5.967505 17.327723        2\n",
      "       7 30.634947 18.500751  7.433034        3\n",
      "       8 17.677670  7.546154 25.044960        2\n",
      "       9 13.583078  7.501852 24.520400        2\n",
      "      10 19.962465  5.060742 21.219095        2\n",
      "\n",
      "kluster baru setelah iterasi ke 2:\n",
      "[[92.5        88.5       ]\n",
      " [85.2        74.2       ]\n",
      " [70.         80.66666667]]\n",
      "\n",
      "Hasil dari Iteration ke 3:\n",
      " Data No        C1        C2        C3  Cluster\n",
      "       1 12.980755 11.986659 10.898522        3\n",
      "       2  2.915476 13.670406 20.978825        1\n",
      "       3  2.915476 18.592472 26.685410        1\n",
      "       4 20.408332 10.884852  5.666667        3\n",
      "       5 22.505555 21.215089  8.333333        3\n",
      "       6 22.327114  6.684310 14.621141        2\n",
      "       7 30.634947 20.215835  7.557189        3\n",
      "       8 17.677670  5.768882 22.213609        2\n",
      "       9 13.583078  5.854912 21.751117        2\n",
      "      10 19.962465  4.204759 18.405917        2\n",
      "\n",
      "kluster baru setelah iterasi ke 3:\n",
      "[[92.5  88.5 ]\n",
      " [86.5  71.5 ]\n",
      " [72.5  81.75]]\n",
      "\n",
      "Hasil akhirnya dari Iteration ke 4 sama dengan sebelumnya:\n",
      " Data No        C1        C2        C3  Cluster\n",
      "       1 12.980755 14.983324  8.173891        3\n",
      "       2  2.915476 15.890249 18.270536        1\n",
      "       3  2.915476 20.359273 23.964818        1\n",
      "       4 20.408332 13.209845  4.506939        3\n",
      "       5 22.505555 24.052027  7.668931        3\n",
      "       6 22.327114  6.670832 13.939602        2\n",
      "       7 30.634947 21.783021 10.090218        3\n",
      "       8 17.677670  3.535534 20.538074        2\n",
      "       9 13.583078  5.700877 19.692956        2\n",
      "      10 19.962465  2.121320 17.155538        2\n",
      "\n",
      "bisa dilihat tidak ada perubahan di iterasi ke 4 dari iterasi ke 3\n"
     ]
    }
   ],
   "execution_count": 105
  },
  {
   "metadata": {},
   "cell_type": "markdown",
   "source": "",
   "id": "a85535c434c8c076"
  },
  {
   "metadata": {
    "ExecuteTime": {
     "end_time": "2024-07-27T02:19:53.192093Z",
     "start_time": "2024-07-27T02:19:53.052304Z"
    }
   },
   "cell_type": "code",
   "source": [
    "# Plotting the clusters\n",
    "plt.figure(figsize=(10, 6))\n",
    "\n",
    "# Colors for clusters\n",
    "colors = ['red', 'green', 'blue']\n",
    "\n",
    "# Plot each data point\n",
    "for i in range(1, 4):\n",
    "    cluster_data = df[df['Cluster'] == i]\n",
    "    plt.scatter(cluster_data['Nilai Raport'], cluster_data['Nilai Tes Ujian'], c=colors[i-1], label=f'Cluster {i}')\n",
    "\n",
    "# Plot the cluster centers\n",
    "plt.scatter(new_centers_3[:, 0], new_centers_3[:, 1], c='black', marker='*', s=100, label='Centers')\n",
    "\n",
    "plt.xlabel('Nilai Raport')\n",
    "plt.ylabel('Nilai Test Ujian')\n",
    "plt.title('Grafik Clusternya')\n",
    "plt.legend()\n",
    "plt.grid(True)\n",
    "plt.show()\n"
   ],
   "id": "c5095ca36e6a84d3",
   "outputs": [
    {
     "data": {
      "text/plain": [
       "<Figure size 1000x600 with 1 Axes>"
      ],
      "image/png": "[encoded data removed]"
     },
     "metadata": {},
     "output_type": "display_data"
    }
   ],
   "execution_count": 104
  },
  {
   "metadata": {},
   "cell_type": "code",
   "source": "",
   "id": "c6ef5c178688d1c",
   "outputs": [],
   "execution_count": null
  }
 ],
 "metadata": {
  "kernelspec": {
   "display_name": "Python 3",
   "language": "python",
   "name": "python3"
  },
  "language_info": {
   "codemirror_mode": {
    "name": "ipython",
    "version": 2
   },
   "file_extension": ".py",
   "mimetype": "text/x-python",
   "name": "python",
   "nbconvert_exporter": "python",
   "pygments_lexer": "ipython2",
   "version": "2.7.6"
  }
 },
 "nbformat": 4,
 "nbformat_minor": 5
}
